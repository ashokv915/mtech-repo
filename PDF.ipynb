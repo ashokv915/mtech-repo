{
 "cells": [
  {
   "cell_type": "code",
   "execution_count": 1,
   "id": "177837d1",
   "metadata": {},
   "outputs": [],
   "source": [
    "from pdfquery import PDFQuery"
   ]
  },
  {
   "cell_type": "code",
   "execution_count": 2,
   "id": "c1738231",
   "metadata": {},
   "outputs": [],
   "source": [
    "pdf = PDFQuery('resultS2.pdf')"
   ]
  },
  {
   "cell_type": "code",
   "execution_count": 3,
   "id": "85cae9d9",
   "metadata": {},
   "outputs": [],
   "source": [
    "pdf.load()"
   ]
  },
  {
   "cell_type": "code",
   "execution_count": null,
   "id": "f8f2d5a7",
   "metadata": {},
   "outputs": [],
   "source": [
    "text_elements = "
   ]
  }
 ],
 "metadata": {
  "kernelspec": {
   "display_name": "Python 3 (ipykernel)",
   "language": "python",
   "name": "python3"
  },
  "language_info": {
   "codemirror_mode": {
    "name": "ipython",
    "version": 3
   },
   "file_extension": ".py",
   "mimetype": "text/x-python",
   "name": "python",
   "nbconvert_exporter": "python",
   "pygments_lexer": "ipython3",
   "version": "3.10.12"
  }
 },
 "nbformat": 4,
 "nbformat_minor": 5
}
